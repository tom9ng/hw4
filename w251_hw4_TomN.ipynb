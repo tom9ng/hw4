{
  "nbformat": 4,
  "nbformat_minor": 0,
  "metadata": {
    "kernelspec": {
      "display_name": "Python 3",
      "language": "python",
      "name": "python3"
    },
    "language_info": {
      "codemirror_mode": {
        "name": "ipython",
        "version": 3
      },
      "file_extension": ".py",
      "mimetype": "text/x-python",
      "name": "python",
      "nbconvert_exporter": "python",
      "pygments_lexer": "ipython3",
      "version": "3.6.9"
    },
    "colab": {
      "name": "w251_hw4_TomN.ipynb",
      "provenance": [],
      "collapsed_sections": []
    }
  },
  "cells": [
    {
      "cell_type": "markdown",
      "metadata": {
        "id": "WLFwNFlbmFj6"
      },
      "source": [
        "## Homework 04\n",
        "  \n",
        "The [Conversation AI](https://conversationai.github.io/) team, a research initiative founded by [Jigsaw](https://jigsaw.google.com/) and Google (both a part of Alphabet) are working on tools to help improve online conversation. One area of focus is the study of negative online behaviors, like toxic comments (i.e. comments that are rude, disrespectful or otherwise likely to make someone leave a discussion).   \n",
        "  \n",
        "In 2019, Kaggle hosted their [second competition](https://www.kaggle.com/c/jigsaw-toxic-comment-classification-challenge#description) on this research. The challenge was to create a model that is capable of detecting different types of of toxicity like threats, obscenity, insults, and identity-based hate better than Perspective’s current models. The competitions used a dataset of comments from Wikipedia’s talk page edits. Improvements to the current model will hopefully help online discussion become more productive and respectful.\n",
        "\n",
        "We shall be using this dataset to benchmark a number of ML models. While the focus of the current competition is to mitigate bias, we will not be using the metric used in the competition. Instead we will be focusing on a simpler metric [Area under the Curve (or AUC)](https://www.kaggle.com/learn-forum/53782) which is suitable to unbalanced binary datasets. Also, we shall not consider different levels of Toxicity; we shall purely take anything marked over the 0.5 level in the measured toxicity range as toxic, and anything underneath as non-toxic. \n",
        "\n",
        "We have created a jupyter notbook with some of the tools to model this problem in Deep Learning, using Logistic regression and MLP. Your challenge will be to fill in the models and benchmark the AUC you achieve on these models.\n",
        "\n",
        "We shall be using the keras deep learning package. As you may know, this is an API into DL frameworks, but is most commonly backed by Tensorflow. [keras.io](keras.io) is a great source for documentation and examples on layers available andn functionality. \n",
        "\n",
        "**Have fun!!**\n",
        "\n",
        "\n",
        "*Disclaimer: the dataset used contains text that may be considered profane, vulgar, or offensive.*"
      ]
    },
    {
      "cell_type": "markdown",
      "metadata": {
        "id": "BLroXf30mFkG"
      },
      "source": [
        "### Set up packages"
      ]
    },
    {
      "cell_type": "code",
      "metadata": {
        "id": "J1eW8LJlmFkH",
        "colab": {
          "base_uri": "https://localhost:8080/"
        },
        "outputId": "9101e417-ac27-4909-9686-cde267c853ca"
      },
      "source": [
        "# Unfortunately the latest Keras version has a bug with Sparse matrices and we need to downgrade. \n",
        "!pip install tensorflow==1.14\n",
        "!pip install keras==2.2.5\n",
        "import os\n",
        "import tensorflow as tf\n",
        "import keras\n",
        "sess = tf.Session(config=tf.ConfigProto(log_device_placement=True))\n",
        "import pandas as pd\n",
        "import numpy as np\n",
        "\n",
        "from sklearn.linear_model import LogisticRegression\n",
        "from sklearn.feature_extraction.text import CountVectorizer \n",
        "from sklearn.model_selection import KFold\n",
        "from sklearn.metrics import roc_auc_score"
      ],
      "execution_count": 1,
      "outputs": [
        {
          "output_type": "stream",
          "text": [
            "Collecting tensorflow==1.14\n",
            "\u001b[?25l  Downloading https://files.pythonhosted.org/packages/de/f0/96fb2e0412ae9692dbf400e5b04432885f677ad6241c088ccc5fe7724d69/tensorflow-1.14.0-cp36-cp36m-manylinux1_x86_64.whl (109.2MB)\n",
            "\u001b[K     |████████████████████████████████| 109.2MB 53kB/s \n",
            "\u001b[?25hRequirement already satisfied: keras-preprocessing>=1.0.5 in /usr/local/lib/python3.6/dist-packages (from tensorflow==1.14) (1.1.2)\n",
            "Requirement already satisfied: grpcio>=1.8.6 in /usr/local/lib/python3.6/dist-packages (from tensorflow==1.14) (1.32.0)\n",
            "Requirement already satisfied: google-pasta>=0.1.6 in /usr/local/lib/python3.6/dist-packages (from tensorflow==1.14) (0.2.0)\n",
            "Requirement already satisfied: gast>=0.2.0 in /usr/local/lib/python3.6/dist-packages (from tensorflow==1.14) (0.3.3)\n",
            "Collecting keras-applications>=1.0.6\n",
            "\u001b[?25l  Downloading https://files.pythonhosted.org/packages/71/e3/19762fdfc62877ae9102edf6342d71b28fbfd9dea3d2f96a882ce099b03f/Keras_Applications-1.0.8-py3-none-any.whl (50kB)\n",
            "\u001b[K     |████████████████████████████████| 51kB 6.4MB/s \n",
            "\u001b[?25hCollecting tensorboard<1.15.0,>=1.14.0\n",
            "\u001b[?25l  Downloading https://files.pythonhosted.org/packages/91/2d/2ed263449a078cd9c8a9ba50ebd50123adf1f8cfbea1492f9084169b89d9/tensorboard-1.14.0-py3-none-any.whl (3.1MB)\n",
            "\u001b[K     |████████████████████████████████| 3.2MB 52.3MB/s \n",
            "\u001b[?25hRequirement already satisfied: numpy<2.0,>=1.14.5 in /usr/local/lib/python3.6/dist-packages (from tensorflow==1.14) (1.19.5)\n",
            "Collecting tensorflow-estimator<1.15.0rc0,>=1.14.0rc0\n",
            "\u001b[?25l  Downloading https://files.pythonhosted.org/packages/3c/d5/21860a5b11caf0678fbc8319341b0ae21a07156911132e0e71bffed0510d/tensorflow_estimator-1.14.0-py2.py3-none-any.whl (488kB)\n",
            "\u001b[K     |████████████████████████████████| 491kB 42.3MB/s \n",
            "\u001b[?25hRequirement already satisfied: wheel>=0.26 in /usr/local/lib/python3.6/dist-packages (from tensorflow==1.14) (0.36.2)\n",
            "Requirement already satisfied: six>=1.10.0 in /usr/local/lib/python3.6/dist-packages (from tensorflow==1.14) (1.15.0)\n",
            "Requirement already satisfied: protobuf>=3.6.1 in /usr/local/lib/python3.6/dist-packages (from tensorflow==1.14) (3.12.4)\n",
            "Requirement already satisfied: termcolor>=1.1.0 in /usr/local/lib/python3.6/dist-packages (from tensorflow==1.14) (1.1.0)\n",
            "Requirement already satisfied: absl-py>=0.7.0 in /usr/local/lib/python3.6/dist-packages (from tensorflow==1.14) (0.10.0)\n",
            "Requirement already satisfied: wrapt>=1.11.1 in /usr/local/lib/python3.6/dist-packages (from tensorflow==1.14) (1.12.1)\n",
            "Requirement already satisfied: astor>=0.6.0 in /usr/local/lib/python3.6/dist-packages (from tensorflow==1.14) (0.8.1)\n",
            "Requirement already satisfied: h5py in /usr/local/lib/python3.6/dist-packages (from keras-applications>=1.0.6->tensorflow==1.14) (2.10.0)\n",
            "Requirement already satisfied: werkzeug>=0.11.15 in /usr/local/lib/python3.6/dist-packages (from tensorboard<1.15.0,>=1.14.0->tensorflow==1.14) (1.0.1)\n",
            "Requirement already satisfied: markdown>=2.6.8 in /usr/local/lib/python3.6/dist-packages (from tensorboard<1.15.0,>=1.14.0->tensorflow==1.14) (3.3.3)\n",
            "Requirement already satisfied: setuptools>=41.0.0 in /usr/local/lib/python3.6/dist-packages (from tensorboard<1.15.0,>=1.14.0->tensorflow==1.14) (51.3.3)\n",
            "Requirement already satisfied: importlib-metadata; python_version < \"3.8\" in /usr/local/lib/python3.6/dist-packages (from markdown>=2.6.8->tensorboard<1.15.0,>=1.14.0->tensorflow==1.14) (3.4.0)\n",
            "Requirement already satisfied: typing-extensions>=3.6.4; python_version < \"3.8\" in /usr/local/lib/python3.6/dist-packages (from importlib-metadata; python_version < \"3.8\"->markdown>=2.6.8->tensorboard<1.15.0,>=1.14.0->tensorflow==1.14) (3.7.4.3)\n",
            "Requirement already satisfied: zipp>=0.5 in /usr/local/lib/python3.6/dist-packages (from importlib-metadata; python_version < \"3.8\"->markdown>=2.6.8->tensorboard<1.15.0,>=1.14.0->tensorflow==1.14) (3.4.0)\n",
            "Installing collected packages: keras-applications, tensorboard, tensorflow-estimator, tensorflow\n",
            "  Found existing installation: tensorboard 2.4.1\n",
            "    Uninstalling tensorboard-2.4.1:\n",
            "      Successfully uninstalled tensorboard-2.4.1\n",
            "  Found existing installation: tensorflow-estimator 2.4.0\n",
            "    Uninstalling tensorflow-estimator-2.4.0:\n",
            "      Successfully uninstalled tensorflow-estimator-2.4.0\n",
            "  Found existing installation: tensorflow 2.4.1\n",
            "    Uninstalling tensorflow-2.4.1:\n",
            "      Successfully uninstalled tensorflow-2.4.1\n",
            "Successfully installed keras-applications-1.0.8 tensorboard-1.14.0 tensorflow-1.14.0 tensorflow-estimator-1.14.0\n",
            "Collecting keras==2.2.5\n",
            "\u001b[?25l  Downloading https://files.pythonhosted.org/packages/f8/ba/2d058dcf1b85b9c212cc58264c98a4a7dd92c989b798823cc5690d062bb2/Keras-2.2.5-py2.py3-none-any.whl (336kB)\n",
            "\u001b[K     |████████████████████████████████| 337kB 9.4MB/s \n",
            "\u001b[?25hRequirement already satisfied: keras-preprocessing>=1.1.0 in /usr/local/lib/python3.6/dist-packages (from keras==2.2.5) (1.1.2)\n",
            "Requirement already satisfied: h5py in /usr/local/lib/python3.6/dist-packages (from keras==2.2.5) (2.10.0)\n",
            "Requirement already satisfied: scipy>=0.14 in /usr/local/lib/python3.6/dist-packages (from keras==2.2.5) (1.4.1)\n",
            "Requirement already satisfied: six>=1.9.0 in /usr/local/lib/python3.6/dist-packages (from keras==2.2.5) (1.15.0)\n",
            "Requirement already satisfied: pyyaml in /usr/local/lib/python3.6/dist-packages (from keras==2.2.5) (3.13)\n",
            "Requirement already satisfied: numpy>=1.9.1 in /usr/local/lib/python3.6/dist-packages (from keras==2.2.5) (1.19.5)\n",
            "Requirement already satisfied: keras-applications>=1.0.8 in /usr/local/lib/python3.6/dist-packages (from keras==2.2.5) (1.0.8)\n",
            "Installing collected packages: keras\n",
            "  Found existing installation: Keras 2.4.3\n",
            "    Uninstalling Keras-2.4.3:\n",
            "      Successfully uninstalled Keras-2.4.3\n",
            "Successfully installed keras-2.2.5\n"
          ],
          "name": "stdout"
        },
        {
          "output_type": "stream",
          "text": [
            "/usr/local/lib/python3.6/dist-packages/tensorflow/python/framework/dtypes.py:516: FutureWarning: Passing (type, 1) or '1type' as a synonym of type is deprecated; in a future version of numpy, it will be understood as (type, (1,)) / '(1,)type'.\n",
            "  _np_qint8 = np.dtype([(\"qint8\", np.int8, 1)])\n",
            "/usr/local/lib/python3.6/dist-packages/tensorflow/python/framework/dtypes.py:517: FutureWarning: Passing (type, 1) or '1type' as a synonym of type is deprecated; in a future version of numpy, it will be understood as (type, (1,)) / '(1,)type'.\n",
            "  _np_quint8 = np.dtype([(\"quint8\", np.uint8, 1)])\n",
            "/usr/local/lib/python3.6/dist-packages/tensorflow/python/framework/dtypes.py:518: FutureWarning: Passing (type, 1) or '1type' as a synonym of type is deprecated; in a future version of numpy, it will be understood as (type, (1,)) / '(1,)type'.\n",
            "  _np_qint16 = np.dtype([(\"qint16\", np.int16, 1)])\n",
            "/usr/local/lib/python3.6/dist-packages/tensorflow/python/framework/dtypes.py:519: FutureWarning: Passing (type, 1) or '1type' as a synonym of type is deprecated; in a future version of numpy, it will be understood as (type, (1,)) / '(1,)type'.\n",
            "  _np_quint16 = np.dtype([(\"quint16\", np.uint16, 1)])\n",
            "/usr/local/lib/python3.6/dist-packages/tensorflow/python/framework/dtypes.py:520: FutureWarning: Passing (type, 1) or '1type' as a synonym of type is deprecated; in a future version of numpy, it will be understood as (type, (1,)) / '(1,)type'.\n",
            "  _np_qint32 = np.dtype([(\"qint32\", np.int32, 1)])\n",
            "/usr/local/lib/python3.6/dist-packages/tensorflow/python/framework/dtypes.py:525: FutureWarning: Passing (type, 1) or '1type' as a synonym of type is deprecated; in a future version of numpy, it will be understood as (type, (1,)) / '(1,)type'.\n",
            "  np_resource = np.dtype([(\"resource\", np.ubyte, 1)])\n",
            "/usr/local/lib/python3.6/dist-packages/tensorboard/compat/tensorflow_stub/dtypes.py:541: FutureWarning: Passing (type, 1) or '1type' as a synonym of type is deprecated; in a future version of numpy, it will be understood as (type, (1,)) / '(1,)type'.\n",
            "  _np_qint8 = np.dtype([(\"qint8\", np.int8, 1)])\n",
            "/usr/local/lib/python3.6/dist-packages/tensorboard/compat/tensorflow_stub/dtypes.py:542: FutureWarning: Passing (type, 1) or '1type' as a synonym of type is deprecated; in a future version of numpy, it will be understood as (type, (1,)) / '(1,)type'.\n",
            "  _np_quint8 = np.dtype([(\"quint8\", np.uint8, 1)])\n",
            "/usr/local/lib/python3.6/dist-packages/tensorboard/compat/tensorflow_stub/dtypes.py:543: FutureWarning: Passing (type, 1) or '1type' as a synonym of type is deprecated; in a future version of numpy, it will be understood as (type, (1,)) / '(1,)type'.\n",
            "  _np_qint16 = np.dtype([(\"qint16\", np.int16, 1)])\n",
            "/usr/local/lib/python3.6/dist-packages/tensorboard/compat/tensorflow_stub/dtypes.py:544: FutureWarning: Passing (type, 1) or '1type' as a synonym of type is deprecated; in a future version of numpy, it will be understood as (type, (1,)) / '(1,)type'.\n",
            "  _np_quint16 = np.dtype([(\"quint16\", np.uint16, 1)])\n",
            "/usr/local/lib/python3.6/dist-packages/tensorboard/compat/tensorflow_stub/dtypes.py:545: FutureWarning: Passing (type, 1) or '1type' as a synonym of type is deprecated; in a future version of numpy, it will be understood as (type, (1,)) / '(1,)type'.\n",
            "  _np_qint32 = np.dtype([(\"qint32\", np.int32, 1)])\n",
            "/usr/local/lib/python3.6/dist-packages/tensorboard/compat/tensorflow_stub/dtypes.py:550: FutureWarning: Passing (type, 1) or '1type' as a synonym of type is deprecated; in a future version of numpy, it will be understood as (type, (1,)) / '(1,)type'.\n",
            "  np_resource = np.dtype([(\"resource\", np.ubyte, 1)])\n",
            "Using TensorFlow backend.\n"
          ],
          "name": "stderr"
        }
      ]
    },
    {
      "cell_type": "markdown",
      "metadata": {
        "id": "8dfSIsJ4mFkH"
      },
      "source": [
        "### Load data\n",
        "Let's load our data and take a peak.   \n",
        "The competition metrics and fields have too much detail too cover here.   \n",
        "We will just focus on the comment of the users and whether it was deemed toxic (target>0.5) or not.    "
      ]
    },
    {
      "cell_type": "code",
      "metadata": {
        "id": "MH16YOAOmFkI",
        "colab": {
          "base_uri": "https://localhost:8080/"
        },
        "outputId": "5d7a6d5b-a1f1-42a4-bf9d-3777003f1dd3"
      },
      "source": [
        "# File with the training samples\n",
        "!wget -O train.csv.zip \"https://www.dropbox.com/s/xei6z41mfrcnxcd/train.csv.zip?dl=1\""
      ],
      "execution_count": 2,
      "outputs": [
        {
          "output_type": "stream",
          "text": [
            "--2021-02-01 22:52:08--  https://www.dropbox.com/s/xei6z41mfrcnxcd/train.csv.zip?dl=1\n",
            "Resolving www.dropbox.com (www.dropbox.com)... 162.125.1.18, 2620:100:6016:18::a27d:112\n",
            "Connecting to www.dropbox.com (www.dropbox.com)|162.125.1.18|:443... connected.\n",
            "HTTP request sent, awaiting response... 301 Moved Permanently\n",
            "Location: /s/dl/xei6z41mfrcnxcd/train.csv.zip [following]\n",
            "--2021-02-01 22:52:08--  https://www.dropbox.com/s/dl/xei6z41mfrcnxcd/train.csv.zip\n",
            "Reusing existing connection to www.dropbox.com:443.\n",
            "HTTP request sent, awaiting response... 302 Found\n",
            "Location: https://uc275e4a3b98504f5f3e16ca7f9f.dl.dropboxusercontent.com/cd/0/get/BIJ2os69jT-If3bG2Wny1F24pb9dvffVRz2Dk7jUMNl9EtWYfFjnRiB1VUJPlZthQ06gSupHogVbDygqcUtiVL4Olri2AVTOKxE-4swtG-HSj1EPrAf3lQJrpfa_LAgDlMY/file?dl=1# [following]\n",
            "--2021-02-01 22:52:09--  https://uc275e4a3b98504f5f3e16ca7f9f.dl.dropboxusercontent.com/cd/0/get/BIJ2os69jT-If3bG2Wny1F24pb9dvffVRz2Dk7jUMNl9EtWYfFjnRiB1VUJPlZthQ06gSupHogVbDygqcUtiVL4Olri2AVTOKxE-4swtG-HSj1EPrAf3lQJrpfa_LAgDlMY/file?dl=1\n",
            "Resolving uc275e4a3b98504f5f3e16ca7f9f.dl.dropboxusercontent.com (uc275e4a3b98504f5f3e16ca7f9f.dl.dropboxusercontent.com)... 162.125.1.15, 2620:100:6016:15::a27d:10f\n",
            "Connecting to uc275e4a3b98504f5f3e16ca7f9f.dl.dropboxusercontent.com (uc275e4a3b98504f5f3e16ca7f9f.dl.dropboxusercontent.com)|162.125.1.15|:443... connected.\n",
            "HTTP request sent, awaiting response... 200 OK\n",
            "Length: 286248352 (273M) [application/binary]\n",
            "Saving to: ‘train.csv.zip’\n",
            "\n",
            "train.csv.zip       100%[===================>] 272.99M  89.8MB/s    in 3.0s    \n",
            "\n",
            "2021-02-01 22:52:12 (89.8 MB/s) - ‘train.csv.zip’ saved [286248352/286248352]\n",
            "\n"
          ],
          "name": "stdout"
        }
      ]
    },
    {
      "cell_type": "code",
      "metadata": {
        "id": "U38jieRSmFkI",
        "colab": {
          "base_uri": "https://localhost:8080/"
        },
        "outputId": "74e9dab9-d9ee-4efb-b92c-6994a62eb115"
      },
      "source": [
        "# Lets look at what files we have available. \n",
        "os.listdir()"
      ],
      "execution_count": 3,
      "outputs": [
        {
          "output_type": "execute_result",
          "data": {
            "text/plain": [
              "['.config', 'train.csv.zip', 'sample_data']"
            ]
          },
          "metadata": {
            "tags": []
          },
          "execution_count": 3
        }
      ]
    },
    {
      "cell_type": "code",
      "metadata": {
        "id": "W1QW61zymFkI",
        "colab": {
          "base_uri": "https://localhost:8080/"
        },
        "outputId": "a687b1b8-df55-4d2e-fc3c-b529aaf3d76c"
      },
      "source": [
        "train_df = pd.read_csv('train.csv.zip', \n",
        "                       dtype={'comment_text':str},\n",
        "                       usecols=['comment_text', 'target'],\n",
        "                       compression = 'zip')\n",
        "train_df['target'] = (train_df['target']>0.5).astype(int)\n",
        "print(\"Dataframe Number of (rows, columns) : {}\".format(train_df.shape))"
      ],
      "execution_count": 4,
      "outputs": [
        {
          "output_type": "stream",
          "text": [
            "Dataframe Number of (rows, columns) : (1804874, 2)\n"
          ],
          "name": "stdout"
        }
      ]
    },
    {
      "cell_type": "code",
      "metadata": {
        "id": "u0odXyPBmFkJ",
        "colab": {
          "base_uri": "https://localhost:8080/",
          "height": 359
        },
        "outputId": "2b7579bd-a1c1-4b0a-f09c-894c76949b63"
      },
      "source": [
        "pd.options.display.max_colwidth = 200\n",
        "train_df.head(10)"
      ],
      "execution_count": 5,
      "outputs": [
        {
          "output_type": "execute_result",
          "data": {
            "text/html": [
              "<div>\n",
              "<style scoped>\n",
              "    .dataframe tbody tr th:only-of-type {\n",
              "        vertical-align: middle;\n",
              "    }\n",
              "\n",
              "    .dataframe tbody tr th {\n",
              "        vertical-align: top;\n",
              "    }\n",
              "\n",
              "    .dataframe thead th {\n",
              "        text-align: right;\n",
              "    }\n",
              "</style>\n",
              "<table border=\"1\" class=\"dataframe\">\n",
              "  <thead>\n",
              "    <tr style=\"text-align: right;\">\n",
              "      <th></th>\n",
              "      <th>target</th>\n",
              "      <th>comment_text</th>\n",
              "    </tr>\n",
              "  </thead>\n",
              "  <tbody>\n",
              "    <tr>\n",
              "      <th>0</th>\n",
              "      <td>0</td>\n",
              "      <td>This is so cool. It's like, 'would you want your mother to read this??' Really great idea, well done!</td>\n",
              "    </tr>\n",
              "    <tr>\n",
              "      <th>1</th>\n",
              "      <td>0</td>\n",
              "      <td>Thank you!! This would make my life a lot less anxiety-inducing. Keep it up, and don't let anyone get in your way!</td>\n",
              "    </tr>\n",
              "    <tr>\n",
              "      <th>2</th>\n",
              "      <td>0</td>\n",
              "      <td>This is such an urgent design problem; kudos to you for taking it on. Very impressive!</td>\n",
              "    </tr>\n",
              "    <tr>\n",
              "      <th>3</th>\n",
              "      <td>0</td>\n",
              "      <td>Is this something I'll be able to install on my site? When will you be releasing it?</td>\n",
              "    </tr>\n",
              "    <tr>\n",
              "      <th>4</th>\n",
              "      <td>1</td>\n",
              "      <td>haha you guys are a bunch of losers.</td>\n",
              "    </tr>\n",
              "    <tr>\n",
              "      <th>5</th>\n",
              "      <td>1</td>\n",
              "      <td>ur a sh*tty comment.</td>\n",
              "    </tr>\n",
              "    <tr>\n",
              "      <th>6</th>\n",
              "      <td>0</td>\n",
              "      <td>hahahahahahahahhha suck it.</td>\n",
              "    </tr>\n",
              "    <tr>\n",
              "      <th>7</th>\n",
              "      <td>0</td>\n",
              "      <td>FFFFUUUUUUUUUUUUUUU</td>\n",
              "    </tr>\n",
              "    <tr>\n",
              "      <th>8</th>\n",
              "      <td>0</td>\n",
              "      <td>The ranchers seem motivated by mostly by greed; no one should have the right to allow their animals destroy public land.</td>\n",
              "    </tr>\n",
              "    <tr>\n",
              "      <th>9</th>\n",
              "      <td>0</td>\n",
              "      <td>It was a great show. Not a combo I'd of expected to be good together but it was.</td>\n",
              "    </tr>\n",
              "  </tbody>\n",
              "</table>\n",
              "</div>"
            ],
            "text/plain": [
              "   target                                                                                                              comment_text\n",
              "0       0                     This is so cool. It's like, 'would you want your mother to read this??' Really great idea, well done!\n",
              "1       0        Thank you!! This would make my life a lot less anxiety-inducing. Keep it up, and don't let anyone get in your way!\n",
              "2       0                                    This is such an urgent design problem; kudos to you for taking it on. Very impressive!\n",
              "3       0                                      Is this something I'll be able to install on my site? When will you be releasing it?\n",
              "4       1                                                                                      haha you guys are a bunch of losers.\n",
              "5       1                                                                                                      ur a sh*tty comment.\n",
              "6       0                                                                                               hahahahahahahahhha suck it.\n",
              "7       0                                                                                                       FFFFUUUUUUUUUUUUUUU\n",
              "8       0  The ranchers seem motivated by mostly by greed; no one should have the right to allow their animals destroy public land.\n",
              "9       0                                          It was a great show. Not a combo I'd of expected to be good together but it was."
            ]
          },
          "metadata": {
            "tags": []
          },
          "execution_count": 5
        }
      ]
    },
    {
      "cell_type": "markdown",
      "metadata": {
        "id": "ONKknqbpmFkJ"
      },
      "source": [
        "### Create validation data set\n",
        "Lets randomly 66/33 split the data into a training and validation set.   \n",
        "**No change needed here - note, please do not change the KFold split parameters, keeping it consistent will help us debug.**"
      ]
    },
    {
      "cell_type": "code",
      "metadata": {
        "id": "gVlVl4uumFkJ"
      },
      "source": [
        "cv = KFold(n_splits=3, shuffle=True, random_state=42)\n",
        "trn_ids, val_ids = next(cv.split(train_df))\n",
        "x_train, x_valid = train_df['comment_text'][trn_ids], train_df['comment_text'][val_ids]\n",
        "y_train, y_valid = train_df['target'].values[trn_ids], train_df['target'].values[val_ids]"
      ],
      "execution_count": 6,
      "outputs": []
    },
    {
      "cell_type": "markdown",
      "metadata": {
        "id": "aETR1J4qmFkK"
      },
      "source": [
        "### Vectorize Count of tokens"
      ]
    },
    {
      "cell_type": "markdown",
      "metadata": {
        "id": "CCL3_2cnmFkK"
      },
      "source": [
        "![Count Vectorizer](https://cdn-images-1.medium.com/max/1600/1*LD5XaHzOnoniU4p137FL5g.jpeg)  \n",
        "We shall start off performing some CPU based Deep Learning operations. Sparse matrices are better run on CPU.    \n",
        "Do not underestimate CPU based Deep Learning such as MLP; these models can be very powerful and outperform complex much more complex DL models.   \n",
        "Here we create a sparse matrix from the text with 200K of the most common unigram and bigrams.  \n",
        "**Your task here is to convert the collection of text documents (found in the `comment_text` field) to a matrix of token counts.  \n",
        "This can be done using the [CountVectorizer](https://scikit-learn.org/stable/modules/generated/sklearn.feature_extraction.text.CountVectorizer.html) in scikit_learn.  \n",
        "After creating the vectorizer, fit it based on the train matrix `x_train` and use this vectorizer to transform both the `x_train` and `x_valid` sets.   \n",
        "Create sparse matrices called `X_trn_mat` and `X_val_mat`, and please call your vectorizer: `vectorizer`.  \n",
        "Use the parameters max features = 200000 and the token pattern `\\w+`. This token pattern matches one or more word characters (same as `[a-zA-Z0-9_]`) only. All other characters are stripped.\n",
        "Also, we would like to count both unigrams and bigrams (pairs of words), so set the ngram range to `(1,2)`**"
      ]
    },
    {
      "cell_type": "code",
      "metadata": {
        "id": "Zu0IZBEvmFkK"
      },
      "source": [
        "#>>>>>>>>>>>>>>>>>>>>>>>>>>>>>>>>>>>>>>>>>>>>>\n",
        "# Create a CountVectorizer, called `vectorizer`\n",
        "# And create sparse matrices X_trn_mat & X_val_mat\n",
        "#<<<<<<<<<<<<<<<<<<<<<<<<<<<<<<<<<<<<<<<<<<<<<<\n",
        "vectorizer = CountVectorizer(analyzer='word',ngram_range = (1, 2),max_features = 200000, token_pattern = '\\w+')\n",
        "\n",
        "vectorizer = vectorizer.fit(x_train)\n",
        "X_trn_mat = vectorizer.transform(x_train)\n",
        "X_val_mat = vectorizer.transform(x_valid)\n",
        "\n",
        "\n"
      ],
      "execution_count": 7,
      "outputs": []
    },
    {
      "cell_type": "code",
      "metadata": {
        "id": "4sYx5cFWmFkL",
        "colab": {
          "base_uri": "https://localhost:8080/"
        },
        "outputId": "350f1090-6ac6-401a-cb6f-a2d05f29a65c"
      },
      "source": [
        "print(vectorizer.get_feature_names()[:10])\n",
        "print(vectorizer.get_feature_names()[100000:100000+10])"
      ],
      "execution_count": 8,
      "outputs": [
        {
          "output_type": "stream",
          "text": [
            "['0', '0 0', '0 00', '0 01', '0 05', '0 1', '0 2', '0 25', '0 3', '0 4']\n",
            "['make more', 'make most', 'make much', 'make my', 'make new', 'make no', 'make noise', 'make obama', 'make of', 'make on']\n"
          ],
          "name": "stdout"
        }
      ]
    },
    {
      "cell_type": "code",
      "metadata": {
        "id": "uWVgXqb-mFkL",
        "colab": {
          "base_uri": "https://localhost:8080/"
        },
        "outputId": "ba29e337-5883-47e1-a8ff-855506c3001e"
      },
      "source": [
        "X_trn_mat"
      ],
      "execution_count": 9,
      "outputs": [
        {
          "output_type": "execute_result",
          "data": {
            "text/plain": [
              "<1203249x200000 sparse matrix of type '<class 'numpy.int64'>'\n",
              "\twith 89432534 stored elements in Compressed Sparse Row format>"
            ]
          },
          "metadata": {
            "tags": []
          },
          "execution_count": 9
        }
      ]
    },
    {
      "cell_type": "markdown",
      "metadata": {
        "id": "SgUHnAFtmFkL"
      },
      "source": [
        "### Logistic Regression\n",
        "\n",
        "![Logistic Regression](https://upload.wikimedia.org/wikipedia/commons/6/6d/Exam_pass_logistic_curve.jpeg)\n",
        "  \n",
        "Lets start off with a simple Logistic Regression, which is the very basic [sigmoid activation function](https://en.wikipedia.org/wiki/Sigmoid_function) used in DL.  \n",
        "Notice we have no hidden layers, we take as input the whole sparse matrix, and as output the binary classifier prediction (`0<=output<=1`).  \n",
        "The model has 200001 parameters. One coefficient per column in the sparse matrx, plus one bias variable - each of which is learned using gradient descent. \n"
      ]
    },
    {
      "cell_type": "code",
      "metadata": {
        "id": "Dm4ysBJwmFkM",
        "colab": {
          "base_uri": "https://localhost:8080/"
        },
        "outputId": "573c2767-361c-4cb4-b418-94eceb7c9bad"
      },
      "source": [
        "model_in = keras.Input(shape=(X_trn_mat.shape[1],), dtype='float32', sparse=True)\n",
        "out = keras.layers.Dense(1, activation='sigmoid')(model_in)\n",
        "model = keras.Model(inputs=model_in, outputs=out)\n",
        "model.compile(loss='binary_crossentropy', optimizer=keras.optimizers.Adam(lr=1e-2))\n",
        "model.summary()"
      ],
      "execution_count": 10,
      "outputs": [
        {
          "output_type": "stream",
          "text": [
            "WARNING:tensorflow:From /usr/local/lib/python3.6/dist-packages/keras/backend/tensorflow_backend.py:66: The name tf.get_default_graph is deprecated. Please use tf.compat.v1.get_default_graph instead.\n",
            "\n",
            "WARNING:tensorflow:From /usr/local/lib/python3.6/dist-packages/keras/backend/tensorflow_backend.py:539: The name tf.sparse_placeholder is deprecated. Please use tf.compat.v1.sparse_placeholder instead.\n",
            "\n",
            "WARNING:tensorflow:From /usr/local/lib/python3.6/dist-packages/keras/backend/tensorflow_backend.py:4432: The name tf.random_uniform is deprecated. Please use tf.random.uniform instead.\n",
            "\n",
            "WARNING:tensorflow:From /usr/local/lib/python3.6/dist-packages/keras/backend/tensorflow_backend.py:1133: The name tf.sparse_tensor_dense_matmul is deprecated. Please use tf.sparse.sparse_dense_matmul instead.\n",
            "\n",
            "WARNING:tensorflow:From /usr/local/lib/python3.6/dist-packages/keras/optimizers.py:793: The name tf.train.Optimizer is deprecated. Please use tf.compat.v1.train.Optimizer instead.\n",
            "\n",
            "WARNING:tensorflow:From /usr/local/lib/python3.6/dist-packages/keras/backend/tensorflow_backend.py:541: The name tf.placeholder is deprecated. Please use tf.compat.v1.placeholder instead.\n",
            "\n",
            "WARNING:tensorflow:From /usr/local/lib/python3.6/dist-packages/tensorflow/python/ops/nn_impl.py:180: add_dispatch_support.<locals>.wrapper (from tensorflow.python.ops.array_ops) is deprecated and will be removed in a future version.\n",
            "Instructions for updating:\n",
            "Use tf.where in 2.0, which has the same broadcast rule as np.where\n",
            "Model: \"model_1\"\n",
            "_________________________________________________________________\n",
            "Layer (type)                 Output Shape              Param #   \n",
            "=================================================================\n",
            "input_1 (InputLayer)         (None, 200000)            0         \n",
            "_________________________________________________________________\n",
            "dense_1 (Dense)              (None, 1)                 200001    \n",
            "=================================================================\n",
            "Total params: 200,001\n",
            "Trainable params: 200,001\n",
            "Non-trainable params: 0\n",
            "_________________________________________________________________\n"
          ],
          "name": "stdout"
        }
      ]
    },
    {
      "cell_type": "code",
      "metadata": {
        "id": "JhGg3lDomFkN",
        "colab": {
          "base_uri": "https://localhost:8080/"
        },
        "outputId": "5d358fb8-3f22-4231-e5e2-5308b923bfd2"
      },
      "source": [
        "model.fit(X_trn_mat, y_train, epochs=2, batch_size=2**13, validation_data=(X_val_mat, y_valid))"
      ],
      "execution_count": 11,
      "outputs": [
        {
          "output_type": "stream",
          "text": [
            "Train on 1203249 samples, validate on 601625 samples\n",
            "Epoch 1/2\n",
            "1203249/1203249 [==============================] - 9s 8us/step - loss: 0.2413 - val_loss: 0.1775\n",
            "Epoch 2/2\n",
            "1203249/1203249 [==============================] - 9s 7us/step - loss: 0.1328 - val_loss: 0.1492\n"
          ],
          "name": "stdout"
        },
        {
          "output_type": "execute_result",
          "data": {
            "text/plain": [
              "<keras.callbacks.History at 0x7fd79b8ef4e0>"
            ]
          },
          "metadata": {
            "tags": []
          },
          "execution_count": 11
        }
      ]
    },
    {
      "cell_type": "code",
      "metadata": {
        "id": "287Q558bmFkN",
        "colab": {
          "base_uri": "https://localhost:8080/"
        },
        "outputId": "ef0317e3-0fcf-4134-98bd-5e64cbaa69d7"
      },
      "source": [
        "preds_lr = model.predict(X_val_mat).flatten()\n",
        "print('AUC score : {:.5f}'.format(roc_auc_score(y_valid, preds_lr)))"
      ],
      "execution_count": 12,
      "outputs": [
        {
          "output_type": "stream",
          "text": [
            "AUC score : 0.88431\n"
          ],
          "name": "stdout"
        }
      ]
    },
    {
      "cell_type": "markdown",
      "metadata": {
        "id": "TVjBY-QPmFkO"
      },
      "source": [
        "Look at the coefficients to see which words are driving toxic and non-toxic sentences. "
      ]
    },
    {
      "cell_type": "code",
      "metadata": {
        "id": "lEmaY8THmFkO",
        "colab": {
          "base_uri": "https://localhost:8080/"
        },
        "outputId": "3fd8d166-ece1-4f73-b979-21bc5c15046b"
      },
      "source": [
        "feats = np.array(vectorizer.get_feature_names())\n",
        "importance_index = model.get_weights()[0].flatten().argsort()\n",
        "print('Top toxic tokens : \\n{}'.format(feats[importance_index[-10:]].tolist()))\n",
        "print('\\nTop non-toxic tokens : \\n{}'.format(feats[importance_index[:10]].tolist()))"
      ],
      "execution_count": 13,
      "outputs": [
        {
          "output_type": "stream",
          "text": [
            "Top toxic tokens : \n",
            "['bullshit', 'pathetic', 'hypocrite', 'stupid', 'shit', 'morons', 'idiot', 'stupidity', 'idiots', 'idiotic']\n",
            "\n",
            "Top non-toxic tokens : \n",
            "['well said', 'by illegal', 'amen', 'propaganda from', 'bingo', 'great comment', 'yes just', 'of sitting', 'comcast', 'buggy']\n"
          ],
          "name": "stdout"
        }
      ]
    },
    {
      "cell_type": "markdown",
      "metadata": {
        "id": "fCi4xqbfmFkO"
      },
      "source": [
        "### MLP"
      ]
    },
    {
      "cell_type": "markdown",
      "metadata": {
        "id": "Pnu1RS2qmFkP"
      },
      "source": [
        "![MLP](https://www.researchgate.net/profile/Mouhammd_Alkasassbeh/publication/309592737/figure/fig2/AS:423712664100865@1478032379613/MultiLayer-Perceptron-MLP-sturcture-334-MultiLayer-Perceptron-Classifier-MultiLayer.png)\n",
        "\n",
        "Here we shall create a Multi-layer perceptron. Although relatively simple, these can be very powerful models and also suited to low compute power. \n",
        "**Please add three hidden layers to the network using a `relu` activation function.  \n",
        "You can refer to this [script](https://www.kaggle.com/lopuhin/mercari-golf-0-3875-cv-in-75-loc-1900-s). This script contains an MLP which took first place in the *Mercari Price Suggestion Challenge*.   \n",
        "Note, you can do this task by only adding four lines of code. You should see a large increase in AUC over the Logistic Regression.**  \n",
        "Never underestimate the power of an MLP!!"
      ]
    },
    {
      "cell_type": "code",
      "metadata": {
        "id": "BXLlQsoOmFkP",
        "colab": {
          "base_uri": "https://localhost:8080/"
        },
        "outputId": "7a1e8028-7065-4a5d-99a8-77543e897f0e"
      },
      "source": [
        "model_in = keras.Input(shape=(X_trn_mat.shape[1],), dtype='float32', sparse=True)\n",
        "#>>>>>>>>>>>>>>>>>>>>>>>>>>>>>>>>>>>>>>>>>>>>>\n",
        "# Please fill in the next lines with the three hidden layers and the output layer. \n",
        "#<<<<<<<<<<<<<<<<<<<<<<<<<<<<<<<<<<<<<<<<<<<<<<\n",
        "\n",
        "out = keras.layers.Dense(128, activation='relu')(model_in)\n",
        "out = keras.layers.Dense(64, activation='relu')(out)\n",
        "out = keras.layers.Dense(32, activation='relu')(out)\n",
        "\n",
        "out = keras.layers.Dense(1, activation='sigmoid')(out)\n",
        "model = keras.Model(inputs=model_in, outputs=out)\n",
        "model.compile(loss='binary_crossentropy', optimizer=keras.optimizers.Adam(lr=1e-3))\n",
        "model.summary()"
      ],
      "execution_count": 14,
      "outputs": [
        {
          "output_type": "stream",
          "text": [
            "Model: \"model_2\"\n",
            "_________________________________________________________________\n",
            "Layer (type)                 Output Shape              Param #   \n",
            "=================================================================\n",
            "input_2 (InputLayer)         (None, 200000)            0         \n",
            "_________________________________________________________________\n",
            "dense_2 (Dense)              (None, 128)               25600128  \n",
            "_________________________________________________________________\n",
            "dense_3 (Dense)              (None, 64)                8256      \n",
            "_________________________________________________________________\n",
            "dense_4 (Dense)              (None, 32)                2080      \n",
            "_________________________________________________________________\n",
            "dense_5 (Dense)              (None, 1)                 33        \n",
            "=================================================================\n",
            "Total params: 25,610,497\n",
            "Trainable params: 25,610,497\n",
            "Non-trainable params: 0\n",
            "_________________________________________________________________\n"
          ],
          "name": "stdout"
        }
      ]
    },
    {
      "cell_type": "code",
      "metadata": {
        "id": "JBurtIQamFkP",
        "colab": {
          "base_uri": "https://localhost:8080/"
        },
        "outputId": "938e6c75-43f3-48fe-87db-815a342206c6"
      },
      "source": [
        "model.fit(X_trn_mat, y_train, batch_size=2**13, epochs=2, verbose=1, validation_data=(X_val_mat, y_valid))\n",
        "preds_mlp = model.predict(X_val_mat).flatten()"
      ],
      "execution_count": 15,
      "outputs": [
        {
          "output_type": "stream",
          "text": [
            "Train on 1203249 samples, validate on 601625 samples\n",
            "Epoch 1/2\n",
            "1203249/1203249 [==============================] - 107s 89us/step - loss: 0.2159 - val_loss: 0.1239\n",
            "Epoch 2/2\n",
            "1203249/1203249 [==============================] - 104s 86us/step - loss: 0.0849 - val_loss: 0.1253\n"
          ],
          "name": "stdout"
        }
      ]
    },
    {
      "cell_type": "code",
      "metadata": {
        "id": "izpFEW0ImFkQ",
        "colab": {
          "base_uri": "https://localhost:8080/"
        },
        "outputId": "b685587c-67db-4ef1-bbad-42bcae7acb4f"
      },
      "source": [
        "print('AUC score : {:.5f}'.format(roc_auc_score(y_valid, preds_mlp)))"
      ],
      "execution_count": 16,
      "outputs": [
        {
          "output_type": "stream",
          "text": [
            "AUC score : 0.93000\n"
          ],
          "name": "stdout"
        }
      ]
    },
    {
      "cell_type": "markdown",
      "metadata": {
        "id": "xGN-ra-MmFkQ"
      },
      "source": [
        "### MLP with regularisation"
      ]
    },
    {
      "cell_type": "markdown",
      "metadata": {
        "id": "pLiLHdJemFkQ"
      },
      "source": [
        "Now lets try regularization.  \n",
        "**Copy the above MLP model and create a new one adding regularization into the MLP hidden layers.  \n",
        "    Add l2 regularisation to each of the dense hidden layers. Check on [keras.io](https://keras.io) to find details on how to add l2 regularization. Play are around with different level of regularization to see when you achieve optimal results.   \n",
        "Generally it is good to choose parameters like regularization by moving up and down in factors of `10`.  \n",
        "Can you improve on your previous AUC results by using reglarisation?**"
      ]
    },
    {
      "cell_type": "code",
      "metadata": {
        "id": "hEra6Y3AmFkR",
        "colab": {
          "base_uri": "https://localhost:8080/"
        },
        "outputId": "87970b36-6746-4c6d-ba27-adbd8413bca7"
      },
      "source": [
        "model_in = keras.Input(shape=(X_trn_mat.shape[1],), dtype='float32', sparse=True)\n",
        "out = keras.layers.Dense(128, activation='relu', kernel_regularizer=keras.regularizers.l2(0.00001))(model_in)\n",
        "out = keras.layers.Dense(64, activation='relu', kernel_regularizer=keras.regularizers.l2(0.00001))(out)\n",
        "out = keras.layers.Dense(32, activation='relu',  kernel_regularizer=keras.regularizers.l2(0.00001))(out)\n",
        "\n",
        "out = keras.layers.Dense(1, activation='sigmoid')(out)\n",
        "\n",
        "model = keras.Model(inputs=model_in, outputs=out)\n",
        "model.compile(loss='binary_crossentropy', optimizer=keras.optimizers.Adam(lr=1e-2))\n",
        "model.summary()"
      ],
      "execution_count": 35,
      "outputs": [
        {
          "output_type": "stream",
          "text": [
            "Model: \"model_9\"\n",
            "_________________________________________________________________\n",
            "Layer (type)                 Output Shape              Param #   \n",
            "=================================================================\n",
            "input_9 (InputLayer)         (None, 200000)            0         \n",
            "_________________________________________________________________\n",
            "dense_30 (Dense)             (None, 128)               25600128  \n",
            "_________________________________________________________________\n",
            "dense_31 (Dense)             (None, 64)                8256      \n",
            "_________________________________________________________________\n",
            "dense_32 (Dense)             (None, 32)                2080      \n",
            "_________________________________________________________________\n",
            "dense_33 (Dense)             (None, 1)                 33        \n",
            "=================================================================\n",
            "Total params: 25,610,497\n",
            "Trainable params: 25,610,497\n",
            "Non-trainable params: 0\n",
            "_________________________________________________________________\n"
          ],
          "name": "stdout"
        }
      ]
    },
    {
      "cell_type": "code",
      "metadata": {
        "id": "ysS_OenymFkR",
        "colab": {
          "base_uri": "https://localhost:8080/"
        },
        "outputId": "7af0c7b4-5eba-4a3c-8e79-e2beca07e977"
      },
      "source": [
        "model.fit(X_trn_mat, y_train, batch_size=2**13, epochs=2, verbose=1, validation_data=(X_val_mat, y_valid))\r\n",
        "preds_mlp = model.predict(X_val_mat).flatten()"
      ],
      "execution_count": 36,
      "outputs": [
        {
          "output_type": "stream",
          "text": [
            "Train on 1203249 samples, validate on 601625 samples\n",
            "Epoch 1/2\n",
            "1203249/1203249 [==============================] - 122s 101us/step - loss: 0.2150 - val_loss: 0.1846\n",
            "Epoch 2/2\n",
            "1203249/1203249 [==============================] - 119s 99us/step - loss: 0.1749 - val_loss: 0.1740\n"
          ],
          "name": "stdout"
        }
      ]
    },
    {
      "cell_type": "code",
      "metadata": {
        "id": "xbLE2e4bmFkR",
        "colab": {
          "base_uri": "https://localhost:8080/"
        },
        "outputId": "2ee1b796-339b-4b5e-dfc5-0f01dd752e8a"
      },
      "source": [
        "preds_lr = model.predict(X_val_mat).flatten()\r\n",
        "print('AUC score : {:.5f}'.format(roc_auc_score(y_valid, preds_lr)))"
      ],
      "execution_count": 37,
      "outputs": [
        {
          "output_type": "stream",
          "text": [
            "AUC score : 0.94473\n"
          ],
          "name": "stdout"
        }
      ]
    }
  ]
}